{
 "cells": [
  {
   "cell_type": "code",
   "execution_count": 25,
   "id": "ae6d1b2b-941b-4923-9c0f-c28179a6fd39",
   "metadata": {},
   "outputs": [
    {
     "name": "stdout",
     "output_type": "stream",
     "text": [
      "abcdefg\n"
     ]
    }
   ],
   "source": [
    "#Setup the function\n",
    "def wordsortinator (x):\n",
    "    y = sorted(x)#sort the list alphabetically\n",
    "    y = ''.join(y)#remove the separators\n",
    "    print(y)#print output\n",
    "\n",
    "wordsortinator(\"abcdfeg\") #input word here"
   ]
  },
  {
   "cell_type": "code",
   "execution_count": 66,
   "id": "0fee1cf0-a510-4750-919e-8ca80e7aad33",
   "metadata": {},
   "outputs": [
    {
     "name": "stdout",
     "output_type": "stream",
     "text": [
      "I :) :D :(( >:C\n"
     ]
    }
   ],
   "source": [
    "#setup function\n",
    "def emotification (y):\n",
    "    emoticons = {'smile':':)', 'grin':':D', 'sad':':((', 'mad':'>:C'}#setup dictionary for emoticons\n",
    "    for x, z in emoticons.items(): #setup for-loop to check over the string for similar words\n",
    "        y = y.replace(x, z) #replace word with respective emoticon\n",
    "    print (y) #outside of for loop but inside function, print output\n",
    "\n",
    "\n",
    "emotification(\"I smile grin sad mad\") #input sentence here"
   ]
  },
  {
   "cell_type": "code",
   "execution_count": 21,
   "id": "d67e8d97-12ba-4916-b40e-42cc79bd5de5",
   "metadata": {},
   "outputs": [
    {
     "name": "stdout",
     "output_type": "stream",
     "text": [
      "First:  1\n",
      "Middle [2, 3, 4, 5]\n",
      "Last 6\n"
     ]
    }
   ],
   "source": [
    "writeyourcodehere = [1, 2, 3, 4, 5, 6] #setup list\n",
    "a = writeyourcodehere[0] #assign first value to a\n",
    "b = writeyourcodehere[1:5] #assign middle values to b using colon\n",
    "c = writeyourcodehere [-1] #assign final value to c\n",
    "\n",
    "print(\"First: \", a) #print outputs a, b, c\n",
    "print(\"Middle\", b)\n",
    "print(\"Last\", c)"
   ]
  },
  {
   "cell_type": "code",
   "execution_count": null,
   "id": "7f32e4b9-7f26-4d26-be23-e8dddf2c6d02",
   "metadata": {},
   "outputs": [],
   "source": []
  }
 ],
 "metadata": {
  "kernelspec": {
   "display_name": "Python 3 (ipykernel)",
   "language": "python",
   "name": "python3"
  },
  "language_info": {
   "codemirror_mode": {
    "name": "ipython",
    "version": 3
   },
   "file_extension": ".py",
   "mimetype": "text/x-python",
   "name": "python",
   "nbconvert_exporter": "python",
   "pygments_lexer": "ipython3",
   "version": "3.12.4"
  }
 },
 "nbformat": 4,
 "nbformat_minor": 5
}
